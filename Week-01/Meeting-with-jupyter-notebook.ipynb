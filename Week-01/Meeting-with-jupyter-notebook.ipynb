{
 "cells": [
  {
   "cell_type": "markdown",
   "id": "688db560",
   "metadata": {},
   "source": [
    "# Изучение Jupyter"
   ]
  },
  {
   "cell_type": "code",
   "execution_count": 6,
   "id": "646addb6",
   "metadata": {},
   "outputs": [
    {
     "name": "stdout",
     "output_type": "stream",
     "text": [
      "Welcome to jupeter file\n"
     ]
    }
   ],
   "source": [
    "print('Welcome to jupeter file')"
   ]
  },
  {
   "cell_type": "code",
   "execution_count": 7,
   "id": "ca85489a",
   "metadata": {},
   "outputs": [
    {
     "name": "stdout",
     "output_type": "stream",
     "text": [
      "[2, 6]\n",
      "[4, 36]\n"
     ]
    }
   ],
   "source": [
    "lst = [1, 2, 5, 6, 9]\n",
    "\n",
    "# Фильтруем список по чётности.\n",
    "new_lst = list(filter(lambda num: num % 2 == 0, lst))\n",
    "print(new_lst)\n",
    "\n",
    "# Возводим чётный элементы в квадрат.\n",
    "new_lst = list(map(lambda num: num ** 2, new_lst))\n",
    "print(new_lst)"
   ]
  },
  {
   "cell_type": "markdown",
   "id": "1838e70c",
   "metadata": {},
   "source": [
    "## Немного прикольных [формул](https://jupyter-notebook.readthedocs.io/en/stable/examples/Notebook/Typesetting%20Equations.html).\n",
    "\n",
    "\\begin{equation*}\n",
    "\\mathbf{V}_1 \\times \\mathbf{V}_2 =  \\begin{vmatrix}\n",
    "\\mathbf{i} & \\mathbf{j} & \\mathbf{k} \\\\\n",
    "\\frac{\\partial X}{\\partial u} &  \\frac{\\partial Y}{\\partial u} & 0 \\\\\n",
    "\\frac{\\partial X}{\\partial v} &  \\frac{\\partial Y}{\\partial v} & 0\n",
    "\\end{vmatrix}\n",
    "\\end{equation*}\n",
    "\n",
    "\\begin{align}\n",
    "\\dot{x} & = \\sigma(y-x) \\\\\n",
    "\\dot{y} & = \\rho x - y - xz \\\\\n",
    "\\dot{z} & = -\\beta z + xy\n",
    "\\end{align}"
   ]
  },
  {
   "cell_type": "code",
   "execution_count": 9,
   "id": "46ab6be7",
   "metadata": {},
   "outputs": [],
   "source": [
    "import numpy\n",
    "numpy.sin??"
   ]
  },
  {
   "cell_type": "markdown",
   "id": "32bce4cd",
   "metadata": {},
   "source": [
    "## Magic commands"
   ]
  },
  {
   "cell_type": "code",
   "execution_count": 14,
   "id": "3785b867",
   "metadata": {},
   "outputs": [
    {
     "name": "stdout",
     "output_type": "stream",
     "text": [
      "[0, 1, 2, 3, 4, 5, 6, 7, 8, 9]\n",
      "CPU times: user 400 µs, sys: 103 µs, total: 503 µs\n",
      "Wall time: 481 µs\n"
     ]
    }
   ],
   "source": [
    "%%time\n",
    "lol_temp = range(10)\n",
    "print([index for index in lol_temp])"
   ]
  }
 ],
 "metadata": {
  "kernelspec": {
   "display_name": "Python 3 (ipykernel)",
   "language": "python",
   "name": "python3"
  },
  "language_info": {
   "codemirror_mode": {
    "name": "ipython",
    "version": 3
   },
   "file_extension": ".py",
   "mimetype": "text/x-python",
   "name": "python",
   "nbconvert_exporter": "python",
   "pygments_lexer": "ipython3",
   "version": "3.9.12"
  }
 },
 "nbformat": 4,
 "nbformat_minor": 5
}
