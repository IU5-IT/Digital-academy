{
 "cells": [
  {
   "cell_type": "code",
   "execution_count": 1,
   "id": "64b9b9c4",
   "metadata": {},
   "outputs": [
    {
     "name": "stdout",
     "output_type": "stream",
     "text": [
      "Welcome to jupeter file\n"
     ]
    }
   ],
   "source": [
    "print('Welcome to jupeter file')"
   ]
  },
  {
   "cell_type": "code",
   "execution_count": 11,
   "id": "ca85489a",
   "metadata": {},
   "outputs": [
    {
     "name": "stdout",
     "output_type": "stream",
     "text": [
      "[2, 6]\n",
      "[4, 36]\n"
     ]
    }
   ],
   "source": [
    "lst = [1, 2, 5, 6, 9]\n",
    "\n",
    "# Фильтруем список по чётности.\n",
    "new_lst = list(filter(lambda num: num % 2 == 0, lst))\n",
    "print(new_lst)\n",
    "\n",
    "# Возводим чётный элементы в квадрат.\n",
    "new_lst = list(map(lambda num: num ** 2, new_lst))\n",
    "print(new_lst)"
   ]
  }
 ],
 "metadata": {
  "kernelspec": {
   "display_name": "Python 3 (ipykernel)",
   "language": "python",
   "name": "python3"
  },
  "language_info": {
   "codemirror_mode": {
    "name": "ipython",
    "version": 3
   },
   "file_extension": ".py",
   "mimetype": "text/x-python",
   "name": "python",
   "nbconvert_exporter": "python",
   "pygments_lexer": "ipython3",
   "version": "3.9.12"
  }
 },
 "nbformat": 4,
 "nbformat_minor": 5
}
