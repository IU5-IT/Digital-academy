{
 "cells": [
  {
   "cell_type": "code",
   "execution_count": 17,
   "id": "fbe0ab4f",
   "metadata": {},
   "outputs": [
    {
     "data": {
      "text/plain": [
       "[(1, 10, 0),\n",
       " (2, 10, 0),\n",
       " (3, 10, 0),\n",
       " (4, 10, 0),\n",
       " (5, 10, 0),\n",
       " (6, 10, 0),\n",
       " (7, 10, 0),\n",
       " (8, 10, 0),\n",
       " (9, 10, 0),\n",
       " (10, 10, 0)]"
      ]
     },
     "execution_count": 17,
     "metadata": {},
     "output_type": "execute_result"
    }
   ],
   "source": [
    "# !pip install --upgrade pip\n",
    "# !pip install requests\n",
    "import requests\n",
    "\n",
    "URL_USER = 'https://jsonplaceholder.typicode.com/users'\n",
    "URL_POST = 'https://jsonplaceholder.typicode.com/posts'\n",
    "URL_COMMENT = 'https://jsonplaceholder.typicode.com/comments'\n",
    "users = requests.get(URL_USER).json()\n",
    "# response = requests.post(URL_BASE, data={\"some_param\": 124})\n",
    "posts = requests.get(URL_POST).json()\n",
    "comment = requests.get(URL_COMMENT).json()\n",
    "res = [(user_id[0],\n",
    "        sum([1 for user_from_post_id in posts if user_id[0] == user_from_post_id['userId']]),\n",
    "        sum([1 for user_from_post_id in comment if user_id[1] == user_from_post_id['email']]))\n",
    "       for user_id in [(el['id'], el['email']) for el in users]]\n",
    "res"
   ]
  },
  {
   "cell_type": "code",
   "execution_count": null,
   "id": "afd67ebc",
   "metadata": {},
   "outputs": [],
   "source": []
  }
 ],
 "metadata": {
  "kernelspec": {
   "display_name": "Python 3 (ipykernel)",
   "language": "python",
   "name": "python3"
  },
  "language_info": {
   "codemirror_mode": {
    "name": "ipython",
    "version": 3
   },
   "file_extension": ".py",
   "mimetype": "text/x-python",
   "name": "python",
   "nbconvert_exporter": "python",
   "pygments_lexer": "ipython3",
   "version": "3.10.8"
  }
 },
 "nbformat": 4,
 "nbformat_minor": 5
}
