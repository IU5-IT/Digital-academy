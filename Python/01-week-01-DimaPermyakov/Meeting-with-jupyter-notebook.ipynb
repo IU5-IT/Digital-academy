{
 "cells": [
  {
   "cell_type": "markdown",
   "id": "89fc429d",
   "metadata": {},
   "source": [
    "# Неделя 1. Python.\n",
    "### Задача №1.\n",
    "Напишите скрипт, который считывает строку с клавиатуры. Выведите на экран \"привет\", если введенная строка совпадает со строкой \"привет\" или \"здравствуйте\". Если введено что угодно другое, ничего выводить не нужно."
   ]
  },
  {
   "cell_type": "code",
   "execution_count": 2,
   "id": "945c8b91",
   "metadata": {},
   "outputs": [
    {
     "name": "stdout",
     "output_type": "stream",
     "text": [
      "привет\n",
      "привет\n"
     ]
    }
   ],
   "source": [
    "num = input()\n",
    "if num == 'привет' or num == 'здравствуйте':\n",
    "    print('привет')\n"
   ]
  },
  {
   "cell_type": "markdown",
   "id": "48acddc2",
   "metadata": {},
   "source": [
    "### Задача №2.\n",
    "На вход с клавиатуры подаются числа (по одному). Нужно вывести на экран сумму всех четных чисел. Ввод прекращается, если введена пустая строка (\"\"). При любой ситауации, когда не попадаются четные числа, вывести на экран нужно 0 (например, числа не были введены вообще или были введены только нечетные числа). <br>\n",
    "**Формат ввода:**<br>\n",
    "1<br>\n",
    "2<br>\n",
    "3<br>\n",
    "4<br>\n",
    "5<br>\n",
    "6<br>\n",
    "7<br>\n",
    "8<br>\n",
    "**Формат вывода:**<br>\n",
    "20<br>\n",
    "\n",
    "Примечания:<br>\n",
    "Ответ проверяется для целочисенного типа данных посимвольно. Т.е., допустим, ответ 100 будет правильным, в то время как 100.0 выдаст ошибку, поскольку он отличается от правильного на два символа .0"
   ]
  },
  {
   "cell_type": "code",
   "execution_count": 3,
   "id": "46ecfffc",
   "metadata": {},
   "outputs": [
    {
     "name": "stdout",
     "output_type": "stream",
     "text": [
      "1\n",
      "2\n",
      "3\n",
      "4\n",
      "5\n",
      "6\n",
      "7\n",
      "8\n",
      "\n",
      "20\n"
     ]
    }
   ],
   "source": [
    "sum_result = 0\n",
    "while True:\n",
    "    num = input()\n",
    "    if num == '':\n",
    "        break\n",
    "\n",
    "    if int(num) % 2 == 0:\n",
    "        sum_result += int(num)\n",
    "\n",
    "print(sum_result)"
   ]
  },
  {
   "cell_type": "markdown",
   "id": "8a33cb1d",
   "metadata": {},
   "source": [
    "### Задача 3. \n",
    "С клавиатуры вводится строка. В строке заменить пробелы звездочкой. Если встречается подряд несколько пробелов, то их следует заменить одним знаком \"*\", пробелы в начале и конце строки удалить.<br>\n",
    "**Формат ввода:**<br>\n",
    "Какая-нибудь строка типа этой .<br>\n",
    "\n",
    "**Формат вывода:**<br>\n",
    "```Какая-нибудь*строка*типа*этой*.``` <br>"
   ]
  },
  {
   "cell_type": "code",
   "execution_count": 2,
   "id": "f25831a0",
   "metadata": {},
   "outputs": [
    {
     "name": "stdout",
     "output_type": "stream",
     "text": [
      "Какая-нибудь строка типа этой\n",
      "Какая-нибудь*строка*типа*этой\n"
     ]
    }
   ],
   "source": [
    "print(('*'.join(input().split())))"
   ]
  },
  {
   "cell_type": "markdown",
   "id": "08f87988",
   "metadata": {},
   "source": [
    "### Задача 4.\n",
    "С клавиатуры вводится строка, а затем - подстрока. В строке найти все слова, в которых содержится заданная подстрока, и вывести эти слова целиком. Если слова повторяются, вывести все повторения.<br>\n",
    "**Формат ввода:**<br>\n",
    "Раз два три четыре пять <br>\n",
    "а<br>\n",
    "**Формат вывода:**<br>\n",
    "Раз<br>\n",
    "два<br>\n",
    "**Примечания:**<br>\n",
    "Регистр слов не должен учитываться. Но вывод слов должен производиться в том же виде, в котором они были поданы в первоначальной строке."
   ]
  },
  {
   "cell_type": "code",
   "execution_count": 7,
   "id": "f9a5e697",
   "metadata": {},
   "outputs": [
    {
     "name": "stdout",
     "output_type": "stream",
     "text": [
      "Раз два три четыре пять \n",
      "а\n",
      "Раз\n",
      "два\n"
     ]
    }
   ],
   "source": [
    "full_text = input().split()\n",
    "substring = input().lower()\n",
    "for el in full_text:\n",
    "    if substring in el.lower():\n",
    "        print(el)"
   ]
  },
  {
   "cell_type": "markdown",
   "id": "93fd45dc",
   "metadata": {},
   "source": [
    "### Задача 6.\n",
    "С клавиатуры подается 5 чисел, разделенных концом строки. Нужно вывести их на экран от большего к меньшему, также разделяя их концом строки.  <br>\n",
    "**Формат ввода:**<br>\n",
    "12 <br>\n",
    "1 <br>\n",
    "45 <br>\n",
    "9 <br>\n",
    "10<br>\n",
    "\n",
    "**Формат вывода:**<br>\n",
    "45<br>\n",
    "12 <br>\n",
    "10 <br>\n",
    "9 <br>\n",
    "1<br>\n"
   ]
  },
  {
   "cell_type": "code",
   "execution_count": 3,
   "id": "7d6cc6e0",
   "metadata": {},
   "outputs": [
    {
     "name": "stdout",
     "output_type": "stream",
     "text": [
      "12\n",
      "1\n",
      "45\n",
      "9\n",
      "10\n",
      "45\n",
      "12\n",
      "10\n",
      "9\n",
      "1\n"
     ]
    }
   ],
   "source": [
    "lst = []\n",
    "for _ in range(5):\n",
    "    lst.append(int(input()))\n",
    "print('\\n'.join(map(str, sorted(lst, reverse=True))))"
   ]
  },
  {
   "cell_type": "markdown",
   "id": "60b1b797",
   "metadata": {},
   "source": [
    "### Задача 7.\n",
    "С клавиатуры строка, содержащая произвольное количество слов через запятую и пробел. Слова могут повторяться. Нужно вывести на экран все уникальные слова в алфавитном порядке, также через пробел и запятую.<br>\n",
    "**Формат ввода:**<br>\n",
    "джек, воробей, капитан, джек, воробей<br>\n",
    "\n",
    "**Формат вывода:**<br>\n",
    "воробей, джек, капитан<br>\n",
    "\n",
    "**Примечания** <br>\n",
    "Обратите внимание, что в примере у первого слова \"воробей\" стоит запятая, а у второго - нет. В решении такие случае следует учесть. Кроме того, слова могут быть написаны в разном регистре. Вывести их нужно в нижнем регистре. Одинаковые слова, написанные в разных регистрах, считаем одинаковыми."
   ]
  },
  {
   "cell_type": "code",
   "execution_count": 10,
   "id": "32d4b98e",
   "metadata": {},
   "outputs": [
    {
     "name": "stdout",
     "output_type": "stream",
     "text": [
      "джек, воробей, капитан, джек, воробей\n",
      "воробей, джек, капитан\n"
     ]
    }
   ],
   "source": [
    "print(', '.join(sorted(list(set(map(lambda word: word.lower(), input().split(', ')))))))"
   ]
  },
  {
   "cell_type": "markdown",
   "id": "7f7e9bd9",
   "metadata": {},
   "source": [
    "### Задача 8.\n",
    "С клавиатуры вводятся слова через запятую с пробелом. Выведите на экран три наиболее часто встречаемых слова, вместе с количеством этих слов. Количество должно быть отделено от слова двоеточием и пробелом. Каждая пара слово-количество должна быть выведена на отдельной строчке. Для простоты гарантируется, что в строке нет слов с одинаковой встречаемостью.<br>\n",
    "**Формат ввода:**<br>\n",
    "три, три, и, ещё, три, будет, дырка, и, будет, и, дырка, и, дырка, и, дырка<br>\n",
    "\n",
    "**Формат вывода:**<br>\n",
    "и: 5 <br>дырка: 4<br> три: 3<br>\n",
    "\n",
    "**Примечания:**<br>\n",
    "Рекомендация: чтобы быстрее решить задачу, нужно составить словарь, в котором ключами будут встреченные слова, а значениями - их количество в строке. Далее работайте с этим словарем по своему усмотрению. Далее один из вариантов - отсортировать кортежи, в которых на первом месте стоит количество слов, а на втором - сами слова.\n",
    "Учтите, что различных слов в строке может быть меньше трех. В этом случае нужно вывести все.\n"
   ]
  },
  {
   "cell_type": "code",
   "execution_count": 5,
   "id": "a87920b1",
   "metadata": {},
   "outputs": [
    {
     "name": "stdout",
     "output_type": "stream",
     "text": [
      "три, три, и, ещё, три, будет, дырка, и, будет, и, дырка, и, дырка, и, дырка\n",
      "и: 5\n",
      "дырка: 4\n",
      "три: 3\n"
     ]
    }
   ],
   "source": [
    "lst = input().lower().split(', ')\n",
    "set_lst = set(lst)\n",
    "dict_word = {el: lst.count(el) for el in set_lst}\n",
    "res = sorted(dict_word.items(), key=lambda t: t[1], reverse=True)\n",
    "for i in range(min(3, len(res))):\n",
    "    print(f'{res[i][0]}: {res[i][1]}')"
   ]
  },
  {
   "cell_type": "markdown",
   "id": "5c2e9887",
   "metadata": {},
   "source": [
    "### Задача 9.\n",
    "С клавиатуры вводится дата в формате DD-MM-YYYY. Нужно вывести дату начала недели, к которой относится введенная дата (дата понедельника недели), в таком же формате.<br>\n",
    "**Формат ввода:** <br>\n",
    "22-09-2022<br>\n",
    "\n",
    "**Формат вывода:**<br>\n",
    "19-09-2022<br>\n",
    "\n",
    "**Примечания:**<br>\n",
    "Если введен понедельник - нужно вывести его же."
   ]
  },
  {
   "cell_type": "code",
   "execution_count": 1,
   "id": "49dae2f0",
   "metadata": {},
   "outputs": [
    {
     "name": "stdout",
     "output_type": "stream",
     "text": [
      "22-09-2022\n",
      "19-09-2022\n"
     ]
    }
   ],
   "source": [
    "from datetime import date, timedelta\n",
    "\n",
    "day, month, year = list(map(int, input().split('-')))\n",
    "user_date = date(year, month, day)\n",
    "user_date -= timedelta(days=user_date.weekday())\n",
    "print(f'{\"0\" + str(user_date.day) if user_date.day < 10 else user_date.day}-' \\\n",
    "           f'{\"0\" + str(user_date.month) if user_date.month < 10 else user_date.month}-{user_date.year}')"
   ]
  },
  {
   "cell_type": "markdown",
   "id": "4364ca20",
   "metadata": {},
   "source": [
    "<br><br>\n",
    "# Немного"
   ]
  },
  {
   "cell_type": "code",
   "execution_count": 7,
   "id": "ca85489a",
   "metadata": {},
   "outputs": [
    {
     "name": "stdout",
     "output_type": "stream",
     "text": [
      "[2, 6]\n",
      "[4, 36]\n"
     ]
    }
   ],
   "source": [
    "lst = [1, 2, 5, 6, 9]\n",
    "\n",
    "# Фильтруем список по чётности.\n",
    "new_lst = list(filter(lambda num: num % 2 == 0, lst))\n",
    "print(new_lst)\n",
    "\n",
    "# Возводим чётный элементы в квадрат.\n",
    "new_lst = list(map(lambda num: num ** 2, new_lst))\n",
    "print(new_lst)"
   ]
  },
  {
   "cell_type": "markdown",
   "id": "1838e70c",
   "metadata": {},
   "source": [
    "## Немного прикольных [формул](https://jupyter-notebook.readthedocs.io/en/stable/examples/Notebook/Typesetting%20Equations.html).\n",
    "\n",
    "\n",
    "\\begin{equation*}\n",
    "\\mathbf{V}_1 \\times \\mathbf{V}_2 =  \\begin{vmatrix}\n",
    "\\mathbf{i} & \\mathbf{j} & \\mathbf{k} \\\\\n",
    "\\frac{\\partial X}{\\partial u} &  \\frac{\\partial Y}{\\partial u} & 0 \\\\\n",
    "\\frac{\\partial X}{\\partial v} &  \\frac{\\partial Y}{\\partial v} & 0\n",
    "\\end{vmatrix}\n",
    "\\end{equation*}\n",
    "\n",
    "\\begin{align}\n",
    "\\dot{x} & = \\sigma(y-x) \\\\\n",
    "\\dot{y} & = \\rho x - y - xz \\\\\n",
    "\\dot{z} & = -\\beta z + xy\n",
    "\\end{align}"
   ]
  },
  {
   "cell_type": "code",
   "execution_count": 9,
   "id": "46ab6be7",
   "metadata": {},
   "outputs": [],
   "source": [
    "import numpy\n",
    "numpy.sin??"
   ]
  },
  {
   "cell_type": "markdown",
   "id": "32bce4cd",
   "metadata": {},
   "source": [
    "## Magic commands"
   ]
  },
  {
   "cell_type": "code",
   "execution_count": 14,
   "id": "3785b867",
   "metadata": {},
   "outputs": [
    {
     "name": "stdout",
     "output_type": "stream",
     "text": [
      "[0, 1, 2, 3, 4, 5, 6, 7, 8, 9]\n",
      "CPU times: user 400 µs, sys: 103 µs, total: 503 µs\n",
      "Wall time: 481 µs\n"
     ]
    }
   ],
   "source": [
    "%%time\n",
    "lol_temp = range(10)\n",
    "print([index for index in lol_temp])"
   ]
  }
 ],
 "metadata": {
  "kernelspec": {
   "display_name": "Python 3 (ipykernel)",
   "language": "python",
   "name": "python3"
  },
  "language_info": {
   "codemirror_mode": {
    "name": "ipython",
    "version": 3
   },
   "file_extension": ".py",
   "mimetype": "text/x-python",
   "name": "python",
   "nbconvert_exporter": "python",
   "pygments_lexer": "ipython3",
   "version": "3.9.12"
  }
 },
 "nbformat": 4,
 "nbformat_minor": 5
}
